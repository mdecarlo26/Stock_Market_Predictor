{
 "cells": [
  {
   "cell_type": "code",
   "execution_count": 4,
   "metadata": {},
   "outputs": [
    {
     "name": "stdout",
     "output_type": "stream",
     "text": [
      "{'meta': {'symbol': 'AMZN', 'interval': '1day', 'currency': 'USD', 'exchange_timezone': 'America/New_York', 'exchange': 'NASDAQ', 'mic_code': 'XNGS', 'type': 'Common Stock'}, 'values': [{'datetime': '2023-07-06', 'open': '128.36000', 'high': '128.72000', 'low': '127.37000', 'close': '128.37500', 'volume': '32835495'}, {'datetime': '2023-07-05', 'open': '130.24001', 'high': '131.39999', 'low': '129.64000', 'close': '130.37000', 'volume': '35790400'}, {'datetime': '2023-07-03', 'open': '130.82001', 'high': '131.85001', 'low': '130.07001', 'close': '130.22000', 'volume': '28264800'}, {'datetime': '2023-06-30', 'open': '129.47000', 'high': '131.25000', 'low': '128.95000', 'close': '130.36000', 'volume': '54310500'}, {'datetime': '2023-06-29', 'open': '128.77000', 'high': '129.25999', 'low': '127.26000', 'close': '127.90000', 'volume': '40761000'}, {'datetime': '2023-06-28', 'open': '128.94000', 'high': '131.48000', 'low': '128.44000', 'close': '129.03999', 'volume': '52149500'}, {'datetime': '2023-06-27', 'open': '128.63000', 'high': '130.09000', 'low': '127.55000', 'close': '129.17999', 'volume': '46801000'}, {'datetime': '2023-06-26', 'open': '129.33000', 'high': '131.49001', 'low': '127.10000', 'close': '127.33000', 'volume': '59989300'}, {'datetime': '2023-06-23', 'open': '129.11000', 'high': '130.84000', 'low': '128.28000', 'close': '129.33000', 'volume': '71855200'}, {'datetime': '2023-06-22', 'open': '125.31000', 'high': '130.33000', 'low': '125.14000', 'close': '130.14999', 'volume': '90354600'}, {'datetime': '2023-06-21', 'open': '125.64000', 'high': '126.73000', 'low': '123.85000', 'close': '124.83000', 'volume': '52137700'}, {'datetime': '2023-06-20', 'open': '124.97000', 'high': '127.25000', 'low': '124.50000', 'close': '125.78000', 'volume': '56930100'}, {'datetime': '2023-06-16', 'open': '127.71000', 'high': '127.90000', 'low': '125.30000', 'close': '125.49000', 'volume': '84188100'}, {'datetime': '2023-06-15', 'open': '125.21000', 'high': '127.69000', 'low': '124.32000', 'close': '127.11000', 'volume': '60458500'}, {'datetime': '2023-06-14', 'open': '126.70000', 'high': '126.95000', 'low': '124.12000', 'close': '126.42000', 'volume': '52422500'}, {'datetime': '2023-06-13', 'open': '128.12000', 'high': '128.41000', 'low': '125.18000', 'close': '126.66000', 'volume': '50564800'}, {'datetime': '2023-06-12', 'open': '124.02000', 'high': '126.78000', 'low': '123.53000', 'close': '126.57000', 'volume': '51338000'}, {'datetime': '2023-06-09', 'open': '124.08000', 'high': '125.80000', 'low': '123.19000', 'close': '123.43000', 'volume': '51330000'}, {'datetime': '2023-06-08', 'open': '123.01000', 'high': '125.63000', 'low': '122.26000', 'close': '124.25000', 'volume': '62159300'}, {'datetime': '2023-06-07', 'open': '127.01000', 'high': '127.37000', 'low': '120.63000', 'close': '121.23000', 'volume': '95663300'}, {'datetime': '2023-06-06', 'open': '125.07000', 'high': '127.40000', 'low': '125.00000', 'close': '126.61000', 'volume': '45695200'}, {'datetime': '2023-06-05', 'open': '123.36000', 'high': '125.80000', 'low': '123.03000', 'close': '125.30000', 'volume': '47950100'}, {'datetime': '2023-06-02', 'open': '124.92000', 'high': '126.39000', 'low': '124.02000', 'close': '124.25000', 'volume': '61215000'}, {'datetime': '2023-06-01', 'open': '120.69000', 'high': '123.49000', 'low': '119.93000', 'close': '122.77000', 'volume': '54375100'}, {'datetime': '2023-05-31', 'open': '121.45000', 'high': '122.04000', 'low': '119.17000', 'close': '120.58000', 'volume': '72800800'}, {'datetime': '2023-05-30', 'open': '122.37000', 'high': '122.92000', 'low': '119.86000', 'close': '121.66000', 'volume': '64314800'}, {'datetime': '2023-05-26', 'open': '116.04000', 'high': '121.50000', 'low': '116.02000', 'close': '120.11000', 'volume': '96779900'}, {'datetime': '2023-05-25', 'open': '116.63000', 'high': '116.87000', 'low': '114.31000', 'close': '115.00000', 'volume': '66496700'}, {'datetime': '2023-05-24', 'open': '115.35000', 'high': '117.34000', 'low': '115.02000', 'close': '116.75000', 'volume': '63487900'}, {'datetime': '2023-05-23', 'open': '114.27000', 'high': '117.14000', 'low': '113.78000', 'close': '114.99000', 'volume': '67576300'}], 'status': 'ok'}\n"
     ]
    }
   ],
   "source": [
    "import requests\n",
    "\n",
    "url = \"https://twelve-data1.p.rapidapi.com/time_series\"\n",
    "\n",
    "querystring = {\"symbol\":\"AMZN\",\"interval\":\"1day\",\"outputsize\":\"30\",\"format\":\"json\"}\n",
    "\n",
    "headers = {\n",
    "\t\"X-RapidAPI-Key\": \"e8aa58d0a5msh6950ea6600e16bfp1bde78jsn52b2fd234052\",\n",
    "\t\"X-RapidAPI-Host\": \"twelve-data1.p.rapidapi.com\"\n",
    "}\n",
    "\n",
    "response = requests.get(url, headers=headers, params=querystring)\n",
    "data = response.json()\n",
    "print(response.json())"
   ]
  }
 ],
 "metadata": {
  "kernelspec": {
   "display_name": "Python 3",
   "language": "python",
   "name": "python3"
  },
  "language_info": {
   "codemirror_mode": {
    "name": "ipython",
    "version": 3
   },
   "file_extension": ".py",
   "mimetype": "text/x-python",
   "name": "python",
   "nbconvert_exporter": "python",
   "pygments_lexer": "ipython3",
   "version": "3.11.2"
  },
  "orig_nbformat": 4
 },
 "nbformat": 4,
 "nbformat_minor": 2
}
